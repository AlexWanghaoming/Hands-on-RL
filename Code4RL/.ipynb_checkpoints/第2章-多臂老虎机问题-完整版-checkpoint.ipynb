{
 "cells": [
  {
   "cell_type": "markdown",
   "metadata": {},
   "source": [
    "# 第2章 多臂老虎机"
   ]
  },
  {
   "cell_type": "markdown",
   "metadata": {},
   "source": [
    "## 2.1 简介\n",
    "\n",
    "我们在第1章中了解到，强化学习关注智能体和环境交互过程中的学习，这是一种**试错型学习**（trial-and-error learning）范式。在正式学习强化学习之前，我们需要先了解多臂老虎机问题，它可以被看作简化版的强化学习问题。与强化学习不同，多臂老虎机不存在状态信息，只有动作和奖励，算是最简单的“和环境交互中的学习”的一种形式。多臂老虎机中的**探索与利用**（exploration vs. exploitation）问题一直以来都是一个特别经典的问题，理解它能够帮助我们学习强化学习。"
   ]
  },
  {
   "attachments": {},
   "cell_type": "markdown",
   "metadata": {},
   "source": [
    "## 2.2 问题介绍\n",
    "\n",
    "### 2.2.1 问题定义\n",
    "\n",
    "在多臂老虎机（multi-armed bandit，MAB）问题（见图2-1）中，有一个拥有 $K$ 根拉杆的老虎机，拉动每一根拉杆都对应一个关于奖励的概率分布 $\\mathcal{R}$。我们每次拉动其中一根拉杆，就可以从该拉杆对应的奖励概率分布中获得一个奖励 $r$。我们在各根拉杆的奖励概率分布未知的情况下，从头开始尝试，目标是在操作 $T$ 次拉杆后获得尽可能高的累积奖励。由于奖励的概率分布是未知的，因此我们需要在“探索拉杆的获奖概率”和“根据经验选择获奖最多的拉杆”中进行权衡。“采用怎样的操作策略才能使获得的累积奖励最高”便是多臂老虎机问题。如果是你，会怎么做呢？\n",
    "\n",
    "![Image Name](https://cdn.kesci.com/upload/image/r0giutmn91.JPG?imageView2/0/w/640/h/640)\n",
    "<center>图2-1 多臂老虎机</center>\n",
    "    \n",
    "### 2.2.2 形式化描述\n",
    "    \n",
    "多臂老虎机问题可以表示为一个元组 $\\left\\langle \\mathcal{A}, \\mathcal{R} \\right\\rangle$，其中：\n",
    "* $\\mathcal{A}$ 为动作集合，其中一个动作表示拉动一个拉杆。若多臂老虎机一共有$K$根拉杆，那动作空间就是集合$\\{a_1, \\dots, a_K\\}$，我们用$a_t \\in \\mathcal{A}$ 表示任意一个动作；\n",
    "* $\\mathcal{R}$ 为奖励概率分布，拉动每一根拉杆的动作$a$都对应一个奖励概率分布$\\mathcal{R}(r|a)$，不同拉杆的奖励分布通常是不同的。\n",
    "\n",
    "假设每个时间步只能拉动一个拉杆，多臂老虎机的目标为最大化一段时间步$T$内累积的奖励: $\\max \\sum_{t=1}^{T} r_t,\\ r_t \\sim \\mathcal{R}\\left( \\cdot | a_t \\right)$。其中$a_t$表示在第$t$时间步拉动某一拉杆的动作，$r_t$表示动作$a_t$获得的奖励。\n",
    "\t\t\n",
    "### 2.2.3 累积懊悔 \n",
    "\n",
    "对于每一个动作$a$，我们定义其期望奖励为$Q(a) = \\mathbb{E}_{r\\sim\\mathcal{R}(\\cdot|a)} \\left[r\\right]$。于是，至少存在一根拉杆，它的期望奖励不小于拉动其他任意一根拉杆，我们将该最优期望奖励表示为 $Q^* = \\max_{a \\in \\mathcal{A}} Q(a)$。为了更加直观、方便地观察拉动一根拉杆的期望奖励离最优拉杆期望奖励的差距，我们引入**懊悔**（regret）概念。懊悔定义为拉动当前拉杆的动作$a$与最优拉杆的期望奖励差，即 $R(a) = Q^* - Q(a)$。**累积懊悔**（cumulative regret）即操作 $T$ 次拉杆后累积的懊悔总量，对于一次完整的$T$步决策$\\{a_1,a_2,...,a_T\\}$，累积懊悔为 $\\sigma_R = \\sum_{t=1}^T R(a_t)$。MAB 问题的目标为最大化累积奖励，等价于最小化累积懊悔。\n",
    "\n",
    "### 2.2.4 估计期望奖励\n",
    "\n",
    "为了知道拉动哪一根拉杆能获得更高的奖励，我们需要估计拉动这根拉杆的期望奖励。由于只拉动一次拉杆获得的奖励存在随机性，所以需要多次拉动一根拉杆，然后计算得到的多次奖励的期望，其算法流程如下所示。\n",
    "\n",
    "- 对于$\\forall a \\in \\mathcal{A}$，初始化计数器 $N(a) = 0$和期望奖励估值$\\ \\hat{Q}(a) = 0$\n",
    "- **for** $t = 1 \\rightarrow T$ **do**\n",
    "- $\\quad\\quad$ 选取某根拉杆，该动作记为 $a_t$\n",
    "- $\\quad\\quad$ 得到奖励 $r_t$\n",
    "-\t$\\quad\\quad$ 更新计数器: $N(a_t) = N(a_t) + 1$\n",
    "- $\\quad\\quad$ 更新期望奖励估值：$\\displaystyle \\hat{Q}(a_t) = \\hat{Q}(a_t) + \\frac{1}{N(a_t)} \\left[ r_t - \\hat{Q}(a_t) \\right]$\n",
    "- **end for**\n",
    "\t\n",
    "以上for循环中的第四步如此更新估值，是因为这样可以进行增量式的期望更新，公式如下。\n",
    "$$\n",
    "\\begin{align}\n",
    " Q_k &=\\frac{1}{k}\\sum_{i=1}^{k} r_i \\nonumber \\\\\n",
    " &= \\frac{1}{k}\\left(r_k + \\sum_{i=1}^{k-1}r_i\\right)  \\nonumber \\\\\n",
    "\t\t\t\t&= \\frac{1}{k}(r_k + (k-1)Q_{k-1}) \\nonumber \\\\\n",
    "\t\t\t\t&= \\frac{1}{k}(r_k + kQ_{k-1} - Q_{k-1}) \\nonumber \\\\\n",
    "\t\t\t\t&= Q_{k-1} + \\frac{1}{k}[r_k-Q_{k-1}]   \\nonumber\n",
    "\\end{align}\n",
    "$$\n",
    "\n",
    "如果将所有数求和再除以次数，其缺点是每次更新的时间复杂度和空间复杂度均为 $O(n)$。而采用增量式更新，时间复杂度和空间复杂度均为 $O(1)$。"
   ]
  },
  {
   "attachments": {},
   "cell_type": "markdown",
   "metadata": {},
   "source": [
    "下面我们编写代码来实现一个拉杆数为10的多臂老虎机。其中拉动每根拉杆的奖励服从**伯努利分布**（Bernoulli distribution），即每次拉下拉杆有$p$的概率获得的奖励为1，有$1 − p$的概率获得的奖励为0。奖励为1代表获奖，奖励为0代表没有获奖。"
   ]
  },
  {
   "cell_type": "code",
   "execution_count": null,
   "metadata": {},
   "outputs": [],
   "source": [
    "# 导入需要使用的库,其中numpy是支持数组和矩阵运算的科学计算库,而matplotlib是绘图库\n",
    "import numpy as np\n",
    "import matplotlib.pyplot as plt\n",
    "\n",
    "class BernoulliBandit:\n",
    "    \"\"\" 伯努利多臂老虎机,输入K表示拉杆个数 \"\"\"\n",
    "    def __init__(self, K):\n",
    "        self.probs = np.random.uniform(size=K) # 随机生成K个0～1的数,作为拉动每根拉杆的获奖\n",
    "                                             # 概率\n",
    "        self.best_idx = np.argmax(self.probs) # 获奖概率最大的拉杆\n",
    "        self.best_prob = self.probs[self.best_idx] # 最大的获奖概率\n",
    "        self.K = K\n",
    "\n",
    "    def step(self, k):\n",
    "        # 当玩家选择了k号拉杆后,根据拉动该老虎机的k号拉杆获得奖励的概率返回1（获奖）或0（未\n",
    "        # 获奖）\n",
    "        if np.random.rand() < self.probs[k]:\n",
    "            return 1\n",
    "        else:\n",
    "            return 0\n",
    "\n",
    "np.random.seed(1) # 设定随机种子,使实验具有可重复性\n",
    "K = 10\n",
    "bandit_10_arm = BernoulliBandit(K)\n",
    "print(\"随机生成了一个%d臂伯努利老虎机\" % K)\n",
    "print(\"获奖概率最大的拉杆为%d号,其获奖概率为%.4f\" % (bandit_10_arm.best_idx, \n",
    "bandit_10_arm.best_prob))\n",
    "\n",
    "# 随机生成了一个10臂伯努利老虎机\n",
    "# 获奖概率最大的拉杆为1号,其获奖概率为0.7203"
   ]
  },
  {
   "attachments": {},
   "cell_type": "markdown",
   "metadata": {},
   "source": [
    "接下来我们用一个Solver基础类来实现上述的多臂老虎机的求解方案。根据前文的算法流程，我们需要实现下列函数功能：根据策略选择动作、根据动作获取奖励、更新期望奖励估值、更新累积懊悔和计数。在下面的MAB算法基本框架中，我们将**根据策略选择动作**、**根据动作获取奖励**和**更新期望奖励估值**放在 `run_one_step()` 函数中，由每个继承Solver类的策略具体实现。而**更新累积懊悔和计数**则直接放在主循环 `run()` 中。"
   ]
  },
  {
   "cell_type": "code",
   "execution_count": null,
   "metadata": {},
   "outputs": [],
   "source": [
    "class Solver:\n",
    "    \"\"\" 多臂老虎机算法基本框架 \"\"\"\n",
    "    def __init__(self, bandit):\n",
    "        self.bandit = bandit\n",
    "        self.counts = np.zeros(self.bandit.K) # 每根拉杆的尝试次数\n",
    "        self.regret = 0. # 当前步的累积懊悔\n",
    "        self.actions = [] # 维护一个列表,记录每一步的动作\n",
    "        self.regrets = [] # 维护一个列表,记录每一步的累积懊悔\n",
    "\n",
    "    def update_regret(self, k):\n",
    "        # 计算累积懊悔并保存,k为本次动作选择的拉杆的编号\n",
    "        self.regret += self.bandit.best_prob - self.bandit.probs[k]\n",
    "        self.regrets.append(self.regret)\n",
    "\n",
    "    def run_one_step(self):\n",
    "        # 返回当前动作选择哪一根拉杆,由每个具体的策略实现\n",
    "        raise NotImplementedError\n",
    "\n",
    "    def run(self, num_steps):\n",
    "        # 运行一定次数,num_steps为总运行次数\n",
    "        for _ in range(num_steps):\n",
    "            k = self.run_one_step()\n",
    "            self.counts[k] += 1\n",
    "            self.actions.append(k)\n",
    "            self.update_regret(k)"
   ]
  },
  {
   "attachments": {},
   "cell_type": "markdown",
   "metadata": {},
   "source": [
    "## 2.3 探索与利用的平衡\n",
    "在2.2节的算法框架中，还没有一个策略告诉我们应该采取哪个动作，即拉动哪根拉杆，所以接下来我们将学习如何设计一个策略。例如，一个最简单的策略就是一直采取第一个动作，但这就非常依赖运气的好坏。如果运气绝佳，可能拉动的刚好是能获得最大期望奖励的拉杆，即最优拉杆；但如果运气很糟糕，获得的就有可能是最小的期望奖励。在多臂老虎机问题中，一个经典的问题就是探索与利用的平衡问题。**探索**（exploration）是指尝试拉动更多可能的拉杆，这根拉杆不一定会获得最大的奖励，但这种方案能够摸清楚所有拉杆的获奖情况。例如，对于一个10臂老虎机，我们要把所有的拉杆都拉动一下才知道哪根拉杆可能获得最大的奖励。**利用**（exploitation）是指拉动已知期望奖励最大的那根拉杆，由于已知的信息仅仅来自有限次的交互观测，所以当前的最优拉杆不一定是全局最优的。例如，对于一个10臂老虎机，我们只拉动过其中3根拉杆，接下来就一直拉动这3根拉杆中期望奖励最大的那根拉杆，但很有可能期望奖励最大的拉杆在剩下的7根当中，即使我们对10根拉杆各自都尝试了20次，发现5号拉杆的经验期望奖励是最高的，但仍然存在着微小的概率—另一根6号拉杆的真实期望奖励是比5号拉杆更高的。\n",
    "\n",
    "于是在多臂老虎机问题中，设计策略时就需要平衡探索和利用的次数，使得累积奖励最大化。一个比较常用的思路是在开始时做比较多的探索，在对每根拉杆都有比较准确的估计后，再进行利用。目前已有一些比较经典的算法来解决这个问题，例如$\\epsilon$-贪婪算法、上置信界算法和汤普森采样算法等，我们接下来将分别介绍这几种算法。"
   ]
  },
  {
   "attachments": {},
   "cell_type": "markdown",
   "metadata": {},
   "source": [
    "## 2.4 ϵ-贪心算法\n",
    "\n",
    "完全贪婪算法即在每一时刻采取期望奖励估值最大的动作（拉动拉杆），这就是纯粹的利用，而没有探索，所以我们通常需要对完全贪婪算法进行一些修改，其中比较经典的一种方法为 $\\epsilon$-贪婪（ $\\epsilon$-Greedy）算法。 $\\epsilon$-贪婪算法在完全贪婪算法的基础上添加了噪声，每次以概率$1 - \\epsilon$ 选择以往经验中期望奖励估值最大的那根拉杆（利用），以概率 $\\epsilon$ 随机选择一根拉杆（探索），公式如下：\n",
    "\n",
    "\\begin{align*}\n",
    "  a_t = \n",
    "  \\begin{cases}\n",
    "    \\arg\\max_{a\\in\\mathcal{A}} \\hat{Q}(a), &\\text{采样概率: 1-$\\epsilon$}\\\\\n",
    "\t\\text{从 $\\mathcal{A}$ 中随机选择}, &\\text{采样概率: $\\epsilon$}\n",
    "  \\end{cases}\n",
    "\\end{align*}\n",
    "\n",
    "随着探索次数的不断增加，我们对各个动作的奖励估计得越来越准，此时我们就没必要继续花大力气进行探索。所以在 $\\epsilon$-贪婪算法的具体实现中，我们可以令 $\\epsilon$ 随时间衰减，即探索的概率将会不断降低。但是请注意，$\\epsilon$ 不会在有限的步数内衰减至0，因为基于有限步数观测的完全贪婪算法仍然是一个局部信息的贪婪算法，永远距离最优解有一个固定的差距。"
   ]
  },
  {
   "cell_type": "markdown",
   "metadata": {},
   "source": [
    "我们接下来编写代码来实现一个 $\\epsilon$-贪婪算法，并用它去解决2.2.4节生成的10臂老虎机的问题。设置 $\\epsilon = 0.01$，以及$T=5000$。"
   ]
  },
  {
   "cell_type": "code",
   "execution_count": null,
   "metadata": {},
   "outputs": [],
   "source": [
    "class EpsilonGreedy(Solver):\n",
    "    \"\"\" epsilon贪婪算法,继承Solver类 \"\"\"\n",
    "    def __init__(self, bandit, epsilon=0.01, init_prob=1.0):\n",
    "        super(EpsilonGreedy, self).__init__(bandit)\n",
    "        self.epsilon = epsilon\n",
    "        #初始化拉动所有拉杆的期望奖励估值\n",
    "        self.estimates = np.array([init_prob] * self.bandit.K) \n",
    "\n",
    "    def run_one_step(self):\n",
    "        if np.random.random() < self.epsilon:\n",
    "            k = np.random.randint(0, self.bandit.K)  # 随机选择一根拉杆\n",
    "        else:\n",
    "            k = np.argmax(self.estimates)  # 选择期望奖励估值最大的拉杆\n",
    "        r = self.bandit.step(k)  # 得到本次动作的奖励\n",
    "        self.estimates[k] += 1. / (self.counts[k] + 1) * (r - self.estimates[k])\n",
    "        return k"
   ]
  },
  {
   "attachments": {},
   "cell_type": "markdown",
   "metadata": {},
   "source": [
    "为了更加直观地展示，可以把每一时间步的累积函数绘制出来。于是我们定义了以下绘图函数，方便之后调用。"
   ]
  },
  {
   "cell_type": "code",
   "execution_count": null,
   "metadata": {},
   "outputs": [],
   "source": [
    "def plot_results(solvers, solver_names):\n",
    "    \"\"\"生成累积懊悔随时间变化的图像。输入solvers是一个列表,列表中的每个元素是一种特定的策略。\n",
    "    而solver_names也是一个列表,存储每个策略的名称\"\"\"\n",
    "    for idx, solver in enumerate(solvers):\n",
    "        time_list = range(len(solver.regrets))\n",
    "        plt.plot(time_list, solver.regrets, label=solver_names[idx])\n",
    "    plt.xlabel('Time steps')\n",
    "    plt.ylabel('Cumulative regrets')\n",
    "    plt.title('%d-armed bandit' % solvers[0].bandit.K)\n",
    "    plt.legend()\n",
    "    plt.show()\n",
    "\n",
    "np.random.seed(1)\n",
    "epsilon_greedy_solver = EpsilonGreedy(bandit_10_arm, epsilon=0.01)\n",
    "epsilon_greedy_solver.run(5000)\n",
    "print('epsilon-贪婪算法的累积懊悔为：', epsilon_greedy_solver.regret)\n",
    "plot_results([epsilon_greedy_solver], [\"EpsilonGreedy\"])\n",
    "\n",
    "# epsilon-贪婪算法的累积懊悔为：25.526630933945313"
   ]
  },
  {
   "attachments": {},
   "cell_type": "markdown",
   "metadata": {},
   "source": [
    "通过上面的实验可以发现，在经历了开始的一小段时间后，$\\epsilon$-贪婪算法的累积懊悔几乎是线性增长的。这是 $\\epsilon=0.01$ 时的结果，因为一旦做出了随机拉杆的探索，那么产生的懊悔值是固定的。其他不同的 $\\epsilon$ 取值又会带来怎样的变化呢？我们继续使用该10臂老虎机，我们尝试不同的参数$\\{10^{-4}, 0.01, 0.1, 0.25, 0.5\\}$，查看相应的实验结果（另见彩插图1）。"
   ]
  },
  {
   "cell_type": "code",
   "execution_count": null,
   "metadata": {},
   "outputs": [],
   "source": [
    "np.random.seed(0)\n",
    "epsilons = [1e-4, 0.01, 0.1, 0.25, 0.5]\n",
    "epsilon_greedy_solver_list = [EpsilonGreedy(bandit_10_arm, epsilon=e) for e in epsilons]\n",
    "epsilon_greedy_solver_names = [\"epsilon={}\".format(e) for e in epsilons]\n",
    "for solver in epsilon_greedy_solver_list:\n",
    "    solver.run(5000)\n",
    "\n",
    "plot_results(epsilon_greedy_solver_list, epsilon_greedy_solver_names)"
   ]
  },
  {
   "attachments": {},
   "cell_type": "markdown",
   "metadata": {},
   "source": [
    "通过实验结果可以发现，基本上无论 $\\epsilon$ 取值多少，累积懊悔都是线性增长的。在这个例子中，随着 $\\epsilon$ 的增大，累积懊悔增长的速率也会增大。\n",
    "接下来我们尝试 $\\epsilon$ 值随时间衰减的 $\\epsilon$-贪婪算法，采取的具体衰减形式为反比例衰减，公式为 $\\epsilon_t = \\frac{1}{t}$。"
   ]
  },
  {
   "cell_type": "code",
   "execution_count": null,
   "metadata": {},
   "outputs": [],
   "source": [
    "class DecayingEpsilonGreedy(Solver):\n",
    "    \"\"\" epsilon值随时间衰减的epsilon-贪婪算法,继承Solver类 \"\"\"\n",
    "    def __init__(self, bandit, init_prob=1.0):\n",
    "        super(DecayingEpsilonGreedy, self).__init__(bandit)\n",
    "        self.estimates = np.array([init_prob] * self.bandit.K)\n",
    "        self.total_count = 0\n",
    "\n",
    "    def run_one_step(self):\n",
    "        self.total_count += 1\n",
    "        if np.random.random() < 1 / self.total_count: # epsilon值随时间衰减\n",
    "            k = np.random.randint(0, self.bandit.K)\n",
    "        else:\n",
    "            k = np.argmax(self.estimates)\n",
    "\n",
    "        r = self.bandit.step(k)\n",
    "        self.estimates[k] += 1. / (self.counts[k] + 1) * (r - self.estimates[k])\n",
    "\n",
    "    return k\n",
    "\n",
    "np.random.seed(1)\n",
    "decaying_epsilon_greedy_solver = DecayingEpsilonGreedy(bandit_10_arm)\n",
    "decaying_epsilon_greedy_solver.run(5000)\n",
    "print('epsilon值衰减的贪婪算法的累积懊悔为：', decaying_epsilon_greedy_solver.regret)\n",
    "plot_results([decaying_epsilon_greedy_solver], [\"DecayingEpsilonGreedy\"])\n",
    "\n",
    "# epsilon值衰减的贪婪算法的累积懊悔为：10.114334931260183"
   ]
  },
  {
   "attachments": {},
   "cell_type": "markdown",
   "metadata": {},
   "source": [
    "从实验结果图中可以发现，随时间做反比例衰减的 $\\epsilon$-贪婪算法能够使累积懊悔与时间步的关系变成**次线性**（sublinear）的，这明显优于固定 $\\epsilon$ 值的 $\\epsilon$-贪婪算法。"
   ]
  },
  {
   "attachments": {},
   "cell_type": "markdown",
   "metadata": {},
   "source": [
    "## 2.5 上置信界算法\n",
    "\n",
    "设想这样一种情况：对于一台双臂老虎机，其中第一根拉杆只被拉动过一次，得到的奖励为 $0$；第二根拉杆被拉动过很多次，我们对它的奖励分布已经有了大致的把握。这时你会怎么做？或许你会进一步尝试拉动第一根拉杆，从而更加确定其奖励分布。这种思路主要是基于不确定性，因为此时第一根拉杆只被拉动过一次，它的不确定性很高。一根拉杆的不确定性越大，它就越具有探索的价值，因为探索之后我们可能发现它的期望奖励很大。我们在此引入不确定性度量 $U(a)$，它会随着一个动作被尝试次数的增加而减小。我们可以使用一种基于不确定性的策略来综合考虑现有的期望奖励估值和不确定性，其核心问题是如何估计不确定性。\n",
    "\n",
    "**上置信界**（upper confidence bound，UCB）算法是一种经典的基于不确定性的策略算法，它的思想用到了一个非常著名的数学原理：**霍夫丁不等式**（Hoeffding's inequality）。在霍夫丁不等式中，令$X_1,...,X_n$为$n$个独立同分布的随机变量，取值范围为$[0,1]$，其经验期望为$\\bar{x}_n = \\frac{1}{n}\\sum_{j=1}^{n}X_j$，则有\n",
    "$$\n",
    "\\begin{align*}\n",
    "\\mathbb{P}\\left\\{ \\mathbb{E}\\left[X\\right] \\geq \\bar{x}_t + u \\right\\} \\leq e^{-2nu^2} \n",
    "\\end{align*}\n",
    "$$\n",
    "\n",
    "现在我们将霍夫丁不等式运用于多臂老虎机问题中。将$\\hat{Q}_t(a)$ 代入 $\\bar{x}_t$，不等式中的参数 $u = \\hat{U}_t(a)$ 代表不确定性度量。给定一个概率 $p= e^{-2N_t(a)U_t(a)^2}$，根据上述不等式，$Q_t(a) < \\hat{Q}_t(a) + \\hat{U}_t(a)$ 至少以概率 $1-p$ 成立。当$p$很小时，$Q_t(a) < \\hat{Q}_t(a) + \\hat{U}_t(a)$就以很大概率成立，$\\hat{Q}_t(a) + \\hat{U}_t(a)$便是期望奖励上界。此时，上置信界算法便选取期望奖励上界最大的动作，即$a = \\underset{a\\in\\mathcal{A}}{\\text{argmax}} \\left[\\hat{Q}(a) + \\hat{U}(a)\\right]$。那其中$\\hat{U}_t(a)$具体是什么呢？根据等式$e^{-2N_t(a)U_t(a)^2}$，解之即得 $\\hat{U}_t(a) = \\sqrt{\\frac{-\\log p}{2N_t(a)}}$。因此，设定一个概率$p$后，就可以计算相应的不确定性度量$\\hat{U}_t(a)$了。更直观地说，UCB算法在每次选择拉杆前，先估计每根拉杆的期望奖励的上界，使得拉动每根拉杆的期望奖励只有一个较小的概率$p$超过这个上界，接着选出期望奖励上界最大的拉杆，从而选择最有可能获得最大期望奖励的拉杆。"
   ]
  },
  {
   "attachments": {},
   "cell_type": "markdown",
   "metadata": {},
   "source": [
    "我们编写代码来实现UCB算法，并且仍然使用2.2.4节定义的10臂老虎机来观察实验结果。在具体的实现过程中，设置 $p=\\frac{1}{t}$，并且在分母中为拉动每根拉杆的次数加上常数1，以免出现分母为0的情形，即此时 $\\hat{U}_t(a) = \\sqrt{\\frac{\\log t}{2(N_t(a)+1)}}$。同时，我们设定一个系数$c$来控制不确定性的比重，此时$a = \\arg\\max_{a\\in\\mathcal{A}} \\hat{Q}(a) + c \\cdot \\hat{U}(a)$。"
   ]
  },
  {
   "cell_type": "code",
   "execution_count": null,
   "metadata": {},
   "outputs": [],
   "source": [
    "class UCB(Solver):\n",
    "    \"\"\" UCB算法,继承Solver类 \"\"\"\n",
    "        def __init__(self, bandit, coef, init_prob=1.0):\n",
    "        super(UCB, self).__init__(bandit)\n",
    "        self.total_count = 0\n",
    "        self.estimates = np.array([init_prob] * self.bandit.K)\n",
    "        self.coef = coef\n",
    "\n",
    "    def run_one_step(self):\n",
    "        self.total_count += 1\n",
    "        ucb = self.estimates + self.coef * np.sqrt(np.log(self.total_count) / \n",
    "                (2 * (self.counts + 1))) # 计算上置信界\n",
    "        k = np.argmax(ucb) # 选出上置信界最大的拉杆\n",
    "        r = self.bandit.step(k)\n",
    "        self.estimates[k] += 1. / (self.counts[k] + 1) * (r - self.estimates[k])\n",
    "        return k\n",
    "\n",
    "np.random.seed(1)\n",
    "coef = 1 # 控制不确定性比重的系数\n",
    "UCB_solver = UCB(bandit_10_arm, coef)\n",
    "UCB_solver.run(5000)\n",
    "print('上置信界算法的累积懊悔为：', UCB_solver.regret)\n",
    "plot_results([UCB_solver], [\"UCB\"])\n",
    "\n",
    "# 上置信界算法的累积懊悔为：4.360254345326592"
   ]
  },
  {
   "attachments": {},
   "cell_type": "markdown",
   "metadata": {},
   "source": [
    "## 2.6 汤普森采样算法\n",
    "\n",
    "MAB中还有一种经典算法——**汤普森采样**（Thompson sampling），先假设拉动每根拉杆的奖励服从一个特定的概率分布，然后根据拉动每根拉杆的期望奖励来进行选择。但是由于计算所有拉杆的期望奖励的代价比较高，汤普森采样算法使用采样的方式，即根据当前每个动作 $a$ 的奖励概率分布进行一轮采样，得到一组各根拉杆的奖励样本，再选择样本中奖励最大的动作。可以看出，汤普森采样是一种计算所有拉杆的最高奖励概率的蒙特卡洛采样方法。\n",
    "\n",
    "了解了汤普森采样算法的基本思路后，我们需要解决另一个问题：怎样得到当前每个动作 $a$ 的奖励概率分布并且在过程中进行更新？在实际情况中，我们通常用Beta分布对当前每个动作的奖励概率分布进行建模。具体来说，若某拉杆被选择了 $k$ 次，其中 $m_1$ 次奖励为1，$m_2$ 次奖励为0，则该拉杆的奖励服从参数为 $(m_1+1, m_2+1) $的Beta分布。图2-2是汤普森采样的一个示例（另见彩插图2）。\n",
    "\n",
    "![Image Name](https://cdn.kesci.com/upload/image/r0llvnl317.png?imageView2/0/w/640/h/640)\n",
    "<center>图2-2 汤普森采样示例</center>"
   ]
  },
  {
   "attachments": {},
   "cell_type": "markdown",
   "metadata": {},
   "source": [
    "我们编写代码来实现汤普森采样算法，并且仍然使用2.2.4节定义的10臂老虎机来观察实验结果。"
   ]
  },
  {
   "cell_type": "code",
   "execution_count": null,
   "metadata": {},
   "outputs": [],
   "source": [
    "class ThompsonSampling(Solver):\n",
    "    \"\"\" 汤普森采样算法,继承Solver类 \"\"\"\n",
    "    def __init__(self, bandit):\n",
    "        super(ThompsonSampling, self).__init__(bandit)\n",
    "        self._a = np.ones(self.bandit.K)  # 列表,表示每根拉杆奖励为1的次数\n",
    "        self._b = np.ones(self.bandit.K)  # 列表,表示每根拉杆奖励为0的次数\n",
    "\n",
    "    def run_one_step(self):\n",
    "        samples = np.random.beta(self._a, self._b) # 按照Beta分布采样一组奖励样本\n",
    "        k = np.argmax(samples) # 选出采样奖励最大的拉杆\n",
    "        r = self.bandit.step(k)\n",
    "\n",
    "        self._a[k] += r # 更新Beta分布的第一个参数\n",
    "        self._b[k] += (1 - r) # 更新Beta分布的第二个参数\n",
    "        return k\n",
    "\n",
    "np.random.seed(1)\n",
    "thompson_sampling_solver = ThompsonSampling(bandit_10_arm)\n",
    "thompson_sampling_solver.run(5000)\n",
    "print('汤普森采样算法的累积懊悔为：', thompson_sampling_solver.regret)\n",
    "plot_results([thompson_sampling_solver], [\"ThompsonSampling\"])\n",
    "\n",
    "# 汤普森采样算法的累积懊悔为：57.19161964443925"
   ]
  },
  {
   "attachments": {},
   "cell_type": "markdown",
   "metadata": {},
   "source": [
    "通过实验我们可以得到以下结论： $\\epsilon$-贪婪算法的累积懊悔是随时间线性增长的，而另外3种算法（ $\\epsilon$-衰减贪婪算法、上置信界算法、汤普森采样算法）的累积懊悔都是随时间次线性增长的（具体为对数形式增长）。"
   ]
  },
  {
   "attachments": {},
   "cell_type": "markdown",
   "metadata": {},
   "source": [
    "## 2.7 总结\n",
    "\n",
    "探索与利用是与环境做交互学习的重要问题，是强化学习试错法中的必备技术，而多臂老虎机问题是研究探索与利用技术理论的最佳环境。了解多臂老虎机的探索与利用问题，对接下来我们学习强化学习环境探索有很重要的帮助。对于多臂老虎机各种算法的累积懊悔理论分析，有兴趣的同学可以自行查阅相关资料。 $\\epsilon$-贪婪算法、上置信界算法和汤普森采样算法在多臂老虎机问题中十分常用，其中上置信界算法和汤普森采样方法均能保证对数的渐进最优累积懊悔。\n",
    "\n",
    "多臂老虎机问题与强化学习的一大区别在于其与环境的交互并不会改变环境，即多臂老虎机的每次交互的结果和以往的动作无关，所以可看作**无状态的强化学习**（stateless reinforcement learning）。第3章将开始在有状态的环境下讨论强化学习，即马尔可夫决策过程。"
   ]
  },
  {
   "attachments": {},
   "cell_type": "markdown",
   "metadata": {},
   "source": [
    "## 2.8 参考文献\n",
    "\n",
    "[1]\tAUER P, CESA-BIANCHI N,FISCHER P. Finite-time analysis of the multiarmed bandit problem[J]. Machine learning,2002, 47 (2) : 235-256.\n",
    "\n",
    "[2]\tAUER P. Using confidence bounds for exploitation-exploration trade-offs[J]. Journal of Machine Learning Research,2002, 3(3): 397-422.\n",
    "\n",
    "[3]\tGITTINS J, GLAZEBROOK K,WEBER R. Multi-armed bandit allocation indices[M]. 2nd ed. America: John Wiley & Sons, 2011.\n",
    "\n",
    "[4]\tCHAPELLE O, LI L. An empirical evaluation of thompson sampling [J]. Advances in neural information processing systems, 2011, 24: 2249-2257. "
   ]
  }
 ],
 "metadata": {
  "kernelspec": {
   "display_name": "Python 3",
   "language": "python",
   "name": "python3"
  },
  "language_info": {
   "codemirror_mode": {
    "name": "ipython",
    "version": 3
   },
   "file_extension": ".py",
   "mimetype": "text/x-python",
   "name": "python",
   "nbconvert_exporter": "python",
   "pygments_lexer": "ipython3",
   "version": "3.7.6"
  }
 },
 "nbformat": 4,
 "nbformat_minor": 4
}
